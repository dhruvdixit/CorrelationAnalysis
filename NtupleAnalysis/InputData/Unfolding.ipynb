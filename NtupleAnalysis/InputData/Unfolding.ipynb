{
 "cells": [
  {
   "cell_type": "code",
   "execution_count": 1,
   "metadata": {
    "collapsed": false,
    "deletable": true,
    "editable": true
   },
   "outputs": [
    {
     "data": {
      "application/javascript": [
       "\n",
       "require(['notebook'],\n",
       "  function() {\n",
       "    IPython.CodeCell.config_defaults.highlight_modes['magic_text/x-c++src'] = {'reg':[/^%%cpp/]};\n",
       "    console.log(\"JupyROOT - %%cpp magic configured\");\n",
       "  }\n",
       ");\n"
      ]
     },
     "metadata": {},
     "output_type": "display_data"
    },
    {
     "name": "stdout",
     "output_type": "stream",
     "text": [
      "Welcome to JupyROOT 6.09/01\n"
     ]
    },
    {
     "name": "stderr",
     "output_type": "stream",
     "text": [
      "/root/myROOT/lib/ROOT.py:432: UserWarning: \"from ROOT import *\" is not supported under IPython\n",
      "  warnings.warn( '\"from ROOT import *\" is not supported under IPython' )\n"
     ]
    }
   ],
   "source": [
    "#%matplotlib inline\n",
    "import ROOT\n",
    "ROOT.gSystem.Load(\"/mnt/c/Users/marratia/Linux/RooUnfold/libRooUnfold\")\n",
    "from ROOT import gRandom, TH1, TH1D, cout\n",
    "#for unfolding\n",
    "from ROOT import RooUnfoldResponse\n",
    "from ROOT import RooUnfold\n",
    "from ROOT import RooUnfoldBayes\n",
    "from ROOT import RooUnfoldSvd\n",
    "from ROOT import RooUnfoldTUnfold\n",
    "#plotting, style\n",
    "from matplotlib import pyplot as plt\n",
    "ROOT.gStyle.SetOptStat('')\n",
    "from AtlasCommonUtils import *\n",
    "from Legend import Legend\n",
    "from ROOT import TLatex\n",
    "SetAtlasStyle()\n",
    "ROOT.gStyle.SetPalette(ROOT.kViridis);\n"
   ]
  },
  {
   "cell_type": "code",
   "execution_count": 2,
   "metadata": {
    "collapsed": false,
    "deletable": true,
    "editable": true
   },
   "outputs": [],
   "source": [
    "def divideBinWidth(histo):\n",
    "    for i in range(histo.GetNbinsX()):\n",
    "        histo.SetBinContent(i,histo.GetBinContent(i)/histo.GetBinWidth(i))\n",
    "        histo.SetBinError(i, histo.GetBinError(i)/histo.GetBinWidth(i))\n",
    "    return histo"
   ]
  },
  {
   "cell_type": "code",
   "execution_count": 85,
   "metadata": {
    "collapsed": false,
    "deletable": true,
    "editable": true
   },
   "outputs": [
    {
     "name": "stdout",
     "output_type": "stream",
     "text": [
      "TFile: name=OutputData/fout_16_17g6a3_pthat2_latest_small.root, title=, option=READ\n"
     ]
    },
    {
     "name": "stderr",
     "output_type": "stream",
     "text": [
      "Warning in <TCanvas::Constructor>: Deleting canvas with same name: c\n",
      "Info in <TCanvas::Print>: png file Matrix.png has been created\n"
     ]
    },
    {
     "data": {
      "image/png": "[encoded data removed]",
      "text/plain": [
       "<IPython.core.display.Image object>"
      ]
     },
     "metadata": {},
     "output_type": "display_data"
    }
   ],
   "source": [
    "#MCfile = ROOT.TFile('OutputData/fout_16_17g6a3_pthat2_clusterv2_small.root')\n",
    "MCfile = ROOT.TFile('OutputData/fout_16_17g6a3_pthat2_latest_small.root')\n",
    "MCfile.Print()\n",
    "responseMatrix = MCfile.Get(\"hCorrelation\");\n",
    "#responseMatrix.Rebin2D(2,2)\n",
    "responseMatrix.ClearUnderflowAndOverflow()\n",
    "mc_truth = responseMatrix.ProjectionX()\n",
    "mc_reco = responseMatrix.ProjectionY()\n",
    "mc_truth.Sumw2()\n",
    "mc_reco.Sumw2()\n",
    "mc_truth.SetLineColorAlpha(2,0.6)\n",
    "mc_reco.SetLineColorAlpha(4,0.6)\n",
    "\n",
    "\n",
    "##draw mc truth, mc reco, response matrix\n",
    "c = ROOT.TCanvas('c','c',900,300)\n",
    "c.Divide(3)\n",
    "c.cd(1)\n",
    "responseMatrix.Draw('colz')\n",
    "ROOT.gPad.SetLogz()\n",
    "c.cd(2)\n",
    "\n",
    "label = Legend(\"\")\n",
    "label.Add(mc_reco,'MC Reco','L')\n",
    "label.Add(mc_truth,'MC True','L')\n",
    "\n",
    "mc_reco.SetXTitle('p_{T} [GeV]')\n",
    "mc_reco.Draw()\n",
    "mc_truth.Draw(\"same\")\n",
    "label.Draw(0.5,.7)\n",
    "ROOT.gPad.SetLogy()\n",
    "c.cd(3)\n",
    "ratio_mc = mc_reco.Clone()\n",
    "ratio_mc.SetLineColor(1)\n",
    "ratio_mc.Divide(mc_truth)\n",
    "ratio_mc.Draw('L')\n",
    "ratio_mc.SetYTitle('Reco/Truth')\n",
    "c.Draw()\n",
    "c.SaveAs('Matrix.png')"
   ]
  },
  {
   "cell_type": "code",
   "execution_count": 72,
   "metadata": {
    "collapsed": false,
    "deletable": true,
    "editable": true
   },
   "outputs": [
    {
     "name": "stdout",
     "output_type": "stream",
     "text": [
      "TFile: name=OutputData/fout_16_13b_pass4_v2_1run.root, title=, option=READ\n"
     ]
    },
    {
     "data": {
      "image/png": "[encoded data removed]",
      "text/plain": [
       "<IPython.core.display.Image object>"
      ]
     },
     "metadata": {},
     "output_type": "display_data"
    }
   ],
   "source": [
    "Datafile = ROOT.TFile('OutputData/fout_16_13b_pass4_v2_1run.root')\n",
    "Datafile.Print()\n",
    "data = Datafile.Get('track_pt')\n",
    "data.ClearUnderflowAndOverflow()\n",
    "#data.Rebin(2)\n",
    "#for i in range(10):\n",
    "#    data.SetBinContent(i,0)\n",
    "#    data.SetBinError(i,0)\n",
    "#data.SetBinContent(data.GetNbinsX(),0)\n",
    "c.Clear()\n",
    "data.Draw()\n",
    "ROOT.gPad.SetLogy()\n",
    "c.Draw()"
   ]
  },
  {
   "cell_type": "code",
   "execution_count": 83,
   "metadata": {
    "collapsed": false,
    "deletable": true,
    "editable": true
   },
   "outputs": [
    {
     "name": "stdout",
     "output_type": "stream",
     "text": [
      "Now unfolding...\n",
      "Iteration : 0\n",
      "Chi^2 of change 4248.44\n",
      "Iteration : 1\n",
      "Chi^2 of change 92.6349\n",
      "Iteration : 2\n",
      "Chi^2 of change 6.15664\n",
      "Iteration : 3\n",
      "Chi^2 of change 1.75818\n",
      "Iteration : 4\n",
      "Chi^2 of change 0.854274\n",
      "Calculating covariances due to number of measured events\n",
      "SVD init 9 x 9 bins, kreg=3\n"
     ]
    },
    {
     "name": "stderr",
     "output_type": "stream",
     "text": [
      "Info in <TSVDUnfold_130729::Unfold>: Unfolding param: 3\n",
      "Info in <TSVDUnfold_130729::Unfold>: Curvature of weight distribution: 0.224196\n"
     ]
    }
   ],
   "source": [
    "response= RooUnfoldResponse(mc_reco, mc_truth, responseMatrix)\n",
    "response.UseOverflow(ROOT.kFALSE)\n",
    "unfold_bayes = RooUnfoldBayes     (response, data,5);\n",
    "unfold_SVD   = RooUnfoldSvd     (response, data, 3);\n",
    "data_unfolded_bayes = unfold_bayes.Hreco();\n",
    "data_unfolded_SVD   = unfold_SVD.Hreco();"
   ]
  },
  {
   "cell_type": "code",
   "execution_count": null,
   "metadata": {
    "collapsed": false,
    "deletable": true,
    "editable": true
   },
   "outputs": [],
   "source": []
  },
  {
   "cell_type": "code",
   "execution_count": 84,
   "metadata": {
    "collapsed": false,
    "deletable": true,
    "editable": true
   },
   "outputs": [
    {
     "name": "stderr",
     "output_type": "stream",
     "text": [
      "Warning in <TCanvas::Constructor>: Deleting canvas with same name: c\n"
     ]
    },
    {
     "data": {
      "image/png": "[encoded data removed]",
      "text/plain": [
       "<IPython.core.display.Image object>"
      ]
     },
     "metadata": {},
     "output_type": "display_data"
    }
   ],
   "source": [
    "data_unfolded_bayes.SetLineColor(2)\n",
    "data_unfolded_bayes.SetLineColor(4)\n",
    "\n",
    "\n",
    "c = ROOT.TCanvas('c','c',1000,400)\n",
    "c.Divide(2)\n",
    "c.cd(1)\n",
    "hstack = ROOT.THStack()\n",
    "hstack.Add(data)\n",
    "#data_unfolded.Scale(data.Integral()/data_unfolded.Integral())\n",
    "hstack.Add(data_unfolded_bayes)\n",
    "hstack.Add(data_unfolded_SVD)\n",
    "hstack.SetTitle('; p_{T} [GeV]; counts')\n",
    "hstack.Draw('nostack')\n",
    "ROOT.gPad.SetLogy()\n",
    "\n",
    "label = Legend(\"\")\n",
    "label.Add(data,'Data raw','L')\n",
    "label.Add(data_unfolded_bayes,'Data Unfolded (Bayes)','L')\n",
    "label.Add(data_unfolded_SVD, 'Data Unfolded (SVD)','L')\n",
    "label.Draw(.5,.8)\n",
    "c.cd(2)\n",
    "ratio_bayes = data_unfolded_bayes.Clone()\n",
    "ratio_bayes.Divide(data)\n",
    "\n",
    "ratio_SVD   = data_unfolded_SVD.Clone()\n",
    "ratio_SVD.Divide(data)\n",
    "\n",
    "hs_ratio = ROOT.THStack()\n",
    "hs_ratio.Add(ratio_bayes)\n",
    "hs_ratio.Add(ratio_SVD)\n",
    "\n",
    "\n",
    "\n",
    "hs_ratio.SetTitle('; p_{T} [GeV]; Data unfolded / Data Raw')\n",
    "hs_ratio.Draw('nostack')\n",
    "\n",
    "label = Legend(\"\")\n",
    "label.Add(ratio_bayes,'Bayes','L')\n",
    "label.Add(ratio_SVD, 'SVD','L')\n",
    "label.Draw(.3,.6)\n",
    "c.Draw()"
   ]
  },
  {
   "cell_type": "markdown",
   "metadata": {
    "collapsed": false,
    "deletable": true,
    "editable": true
   },
   "source": [
    "#Correcting for efficiency\n"
   ]
  },
  {
   "cell_type": "code",
   "execution_count": null,
   "metadata": {
    "collapsed": true,
    "deletable": true,
    "editable": true
   },
   "outputs": [],
   "source": []
  },
  {
   "cell_type": "code",
   "execution_count": null,
   "metadata": {
    "collapsed": false,
    "deletable": true,
    "editable": true
   },
   "outputs": [],
   "source": [
    "\n"
   ]
  },
  {
   "cell_type": "code",
   "execution_count": null,
   "metadata": {
    "collapsed": true,
    "deletable": true,
    "editable": true
   },
   "outputs": [],
   "source": []
  }
 ],
 "metadata": {
  "kernelspec": {
   "display_name": "Python 2",
   "language": "python",
   "name": "python2"
  },
  "language_info": {
   "codemirror_mode": {
    "name": "ipython",
    "version": 2
   },
   "file_extension": ".py",
   "mimetype": "text/x-python",
   "name": "python",
   "nbconvert_exporter": "python",
   "pygments_lexer": "ipython2",
   "version": "2.7.14"
  }
 },
 "nbformat": 4,
 "nbformat_minor": 2
}
