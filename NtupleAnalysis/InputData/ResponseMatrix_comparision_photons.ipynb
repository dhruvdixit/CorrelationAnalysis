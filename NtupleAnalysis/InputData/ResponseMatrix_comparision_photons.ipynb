{
 "cells": [
  {
   "cell_type": "code",
   "execution_count": 1,
   "metadata": {},
   "outputs": [
    {
     "name": "stdout",
     "output_type": "stream",
     "text": [
      "Welcome to JupyROOT 6.16/00\n"
     ]
    }
   ],
   "source": [
    "#%matplotlib inline\n",
    "import ROOT\n",
    "ROOT.gSystem.Load(\"/home/dhruv/RooUnfold/libRooUnfold\")\n",
    "from ROOT import gRandom, TH1, TH1D, cout\n",
    "#for unfolding\n",
    "from ROOT import RooUnfoldResponse\n",
    "from ROOT import RooUnfold\n",
    "from ROOT import RooUnfoldBayes\n",
    "from ROOT import RooUnfoldSvd\n",
    "from ROOT import RooUnfoldTUnfold\n",
    "#plotting, style\n",
    "from matplotlib import pyplot as plt\n",
    "ROOT.gStyle.SetOptStat('')\n",
    "from AtlasCommonUtils import SetAtlasStyle\n",
    "from Legend import Legend\n",
    "from ROOT import TLatex\n",
    "from array import array\n",
    "#SetAtlasStyle()\n",
    "ROOT.gStyle.SetPalette(ROOT.kViridis);\n",
    "#numpy\n",
    "import numpy as np\n"
   ]
  },
  {
   "cell_type": "markdown",
   "metadata": {},
   "source": [
    "### Get Data and MC files"
   ]
  },
  {
   "cell_type": "code",
   "execution_count": 2,
   "metadata": {},
   "outputs": [],
   "source": [
    "#pPb\n",
    "MCfile_name_allCuts_pPb = '/home/dhruv/17g6a1_5GeV60GeV_100Kevents_wTOFCut_phosDCAlgap_1GeVbinning_new.root'\n",
    "MCfile_name_noNLM_pPb = '/home/dhruv/17g6a1_5GeV60GeV_100Kevents_noNLMCut_phosDCAlgap_1GeVbinning_new.root'\n",
    "\n",
    "\n",
    "MCfile1 = ROOT.TFile(MCfile_name_allCuts_pPb)\n",
    "MCfile2 = ROOT.TFile(MCfile_name_noNLM_pPb)\n"
   ]
  },
  {
   "cell_type": "markdown",
   "metadata": {},
   "source": [
    "## Get response Matrix, normalize it, plot it"
   ]
  },
  {
   "cell_type": "markdown",
   "metadata": {},
   "source": [
    "# Efficiency and Fake rate"
   ]
  },
  {
   "cell_type": "code",
   "execution_count": 5,
   "metadata": {},
   "outputs": [
    {
     "name": "stdout",
     "output_type": "stream",
     "text": [
      "\n",
      "****************************************\n",
      "Minimizer is Linear\n",
      "Chi2                      =      4.71166\n",
      "NDf                       =           27\n",
      "p0                        =     0.940731   +/-   0.00458384  \n"
     ]
    },
    {
     "name": "stderr",
     "output_type": "stream",
     "text": [
      "Warning in <TCanvas::Constructor>: Deleting canvas with same name: c\n"
     ]
    },
    {
     "data": {
      "image/png": "[encoded data removed]",
      "text/plain": [
       "<IPython.core.display.Image object>"
      ]
     },
     "metadata": {},
     "output_type": "display_data"
    }
   ],
   "source": [
    "#Get efficiency1 and fake rate\n",
    "#efficiency1 = MCfile1.Get(\"efficiency1\");\n",
    "efficiency1 = MCfile1.Get(\"hRecoTruth\").Clone()\n",
    "efficiency1.Divide(MCfile1.Get(\"hTruth\"))\n",
    "#fakerate   = MCfile1.Get(\"h_Fake\");\n",
    "\n",
    "#Plot efficiency1 and fake rate\n",
    "efficiency1.SetTitle('; p_{T} [GeV];#epsilon')\n",
    "efficiency1.SetMinimum(0.0)\n",
    "efficiency1.SetMaximum(1.0)\n",
    "efficiency1.SetMarkerStyle(20)\n",
    "efficiency1.SetMarkerColor(2)\n",
    "efficiency1.SetLineColor(2)\n",
    "efficiency1.GetXaxis().SetRangeUser(10,50)\n",
    "#fakerate.SetMarkerStyle(20)\n",
    "#fakerate.SetLineColor(4)\n",
    "#fakerate.SetMarkerColor(4)\n",
    "\n",
    "for i in range(efficiency1.GetNbinsX()):\n",
    "    low = efficiency1.GetBinLowEdge(i)\n",
    "    center =   efficiency1.GetBinCenter(i)\n",
    "    high = efficiency1.GetBinLowEdge(i+1)\n",
    "    content =  efficiency1.GetBinContent(i)\n",
    "    error =  efficiency1.GetBinError(i)\n",
    "    #print (low, '\\t', center, '\\t', high, '\\t', content, '\\t', error, '\\t', error/content)\n",
    "    #sum += (error/content)**2\n",
    "\n",
    "\n",
    "c = ROOT.TCanvas('c','c',600,600)\n",
    "efficiency1.Fit('pol0', '', '', 12,40)\n",
    "efficiency1.Draw()\n",
    "#fakerate.Draw('same')\n",
    "\n",
    "\n",
    "#label = Legend(\"\")\n",
    "#label.Add(efficiency1,'efficiency1','L')\n",
    "#label.Add(fakerate,'Fake rate','L')\n",
    "#label.Draw(.25,.95)\n",
    "c.Draw()\n",
    "#c.SaveAs('efficiency1_photon_pPb.pdf')"
   ]
  },
  {
   "cell_type": "code",
   "execution_count": 6,
   "metadata": {},
   "outputs": [
    {
     "name": "stdout",
     "output_type": "stream",
     "text": [
      "\n",
      "****************************************\n",
      "Minimizer is Linear\n",
      "Chi2                      =      3.43643\n",
      "NDf                       =           27\n",
      "p0                        =     0.959923   +/-   0.00465188  \n"
     ]
    },
    {
     "name": "stderr",
     "output_type": "stream",
     "text": [
      "Warning in <TCanvas::Constructor>: Deleting canvas with same name: c\n"
     ]
    },
    {
     "data": {
      "image/png": "[encoded data removed]",
      "text/plain": [
       "<IPython.core.display.Image object>"
      ]
     },
     "metadata": {},
     "output_type": "display_data"
    }
   ],
   "source": [
    "#Get efficiency2 and fake rate\n",
    "#efficiency2 = MCfile2.Get(\"efficiency2\");\n",
    "efficiency2 = MCfile2.Get(\"hRecoTruth\").Clone()\n",
    "efficiency2.Divide(MCfile2.Get(\"hTruth\"))\n",
    "#fakerate   = MCfile2.Get(\"h_Fake\");\n",
    "\n",
    "#Plot efficiency2 and fake rate\n",
    "efficiency2.SetTitle('; p_{T} [GeV];#epsilon')\n",
    "efficiency2.SetMinimum(0.0)\n",
    "efficiency2.SetMaximum(1.0)\n",
    "efficiency2.SetMarkerStyle(20)\n",
    "efficiency2.SetMarkerColor(2)\n",
    "efficiency2.SetLineColor(2)\n",
    "efficiency2.GetXaxis().SetRangeUser(10,50)\n",
    "#fakerate.SetMarkerStyle(20)\n",
    "#fakerate.SetLineColor(4)\n",
    "#fakerate.SetMarkerColor(4)\n",
    "\n",
    "for i in range(efficiency2.GetNbinsX()):\n",
    "    low = efficiency2.GetBinLowEdge(i)\n",
    "    center =   efficiency2.GetBinCenter(i)\n",
    "    high = efficiency2.GetBinLowEdge(i+1)\n",
    "    content =  efficiency2.GetBinContent(i)\n",
    "    error =  efficiency2.GetBinError(i)\n",
    "    #print (low, '\\t', center, '\\t', high, '\\t', content, '\\t', error, '\\t', error/content)\n",
    "    #sum += (error/content)**2\n",
    "\n",
    "\n",
    "c = ROOT.TCanvas('c','c',600,600)\n",
    "efficiency2.Fit('pol0', '', '', 12,40)\n",
    "efficiency2.Draw()\n",
    "#fakerate.Draw('same')\n",
    "\n",
    "\n",
    "#label = Legend(\"\")\n",
    "#label.Add(efficiency2,'efficiency2','L')\n",
    "#label.Add(fakerate,'Fake rate','L')\n",
    "#label.Draw(.25,.95)\n",
    "c.Draw()\n",
    "#c.SaveAs('efficiency2_photon_pPb.pdf')"
   ]
  },
  {
   "cell_type": "markdown",
   "metadata": {},
   "source": [
    "# Plotting Efficiency"
   ]
  },
  {
   "cell_type": "code",
   "execution_count": 9,
   "metadata": {},
   "outputs": [
    {
     "name": "stderr",
     "output_type": "stream",
     "text": [
      "Warning in <TCanvas::Constructor>: Deleting canvas with same name: c\n",
      "Info in <TCanvas::Print>: pdf file photon_efficiency_comparison.pdf has been created\n"
     ]
    },
    {
     "data": {
      "image/png": "[encoded data removed]",
      "text/plain": [
       "<IPython.core.display.Image object>"
      ]
     },
     "metadata": {},
     "output_type": "display_data"
    }
   ],
   "source": [
    "#all cuts\n",
    "efficiency1.SetLineColor(ROOT.kRed)\n",
    "efficiency1.SetMarkerColor(ROOT.kRed)\n",
    "efficiency1.SetMarkerStyle(24)\n",
    "efficiency1.GetXaxis().SetRangeUser(0.5,13)\n",
    "\n",
    "#no NLM\n",
    "efficiency2.SetLineColor(ROOT.kRed+3)\n",
    "efficiency2.SetMarkerColor(ROOT.kRed+3)\n",
    "efficiency2.SetMarkerStyle(20)\n",
    "\n",
    "\n",
    "legend = ROOT.TLegend(0.2, 0.3, 0.55, 0.55)\n",
    "legend.SetBorderSize(0)\n",
    "legend.SetHeader(\"#splitline{Efficiency and Fake rate}{#bf{p-pPb MC: LHC17g6a1}}\")\n",
    "\n",
    "\n",
    "legend.AddEntry(efficiency1, \"All cuts\")\n",
    "legend.AddEntry(efficiency2, \"no NLM\")\n",
    "\n",
    "\n",
    "c = ROOT.TCanvas('c','c',600,600)\n",
    "\n",
    "efficiency1.Draw('e')\n",
    "efficiency2.Draw('samee')\n",
    "\n",
    "\n",
    "\n",
    "\n",
    "legend.Draw(\"same\")\n",
    "c.Update()\n",
    "c.Draw()\n",
    "\n",
    "c.SaveAs(\"photon_efficiency_comparison.pdf\")"
   ]
  },
  {
   "cell_type": "markdown",
   "metadata": {},
   "source": [
    "# Plotting Response Matrix"
   ]
  },
  {
   "cell_type": "code",
   "execution_count": 25,
   "metadata": {},
   "outputs": [
    {
     "name": "stderr",
     "output_type": "stream",
     "text": [
      "Warning in <TCanvas::Constructor>: Deleting canvas with same name: c\n",
      "Info in <TCanvas::Print>: pdf file trackCorrectionFactors_pPbAndpp.pdf has been created\n"
     ]
    },
    {
     "data": {
      "image/png": "[encoded data removed]",
      "text/plain": [
       "<IPython.core.display.Image object>"
      ]
     },
     "metadata": {},
     "output_type": "display_data"
    }
   ],
   "source": [
    "#pPb\n",
    "efficiency3.SetLineColor(ROOT.kRed)\n",
    "efficiency3.SetMarkerColor(ROOT.kRed)\n",
    "efficiency3.SetMarkerStyle(20)\n",
    "\n",
    "fakerate3.SetLineColor(ROOT.kBlue)\n",
    "fakerate3.SetMarkerColor(ROOT.kBlue)\n",
    "fakerate3.SetMarkerStyle(20)\n",
    "\n",
    "ratio_mc_counts3.SetLineColor(ROOT.kMagenta)\n",
    "ratio_mc_counts3.SetMarkerColor(ROOT.kMagenta)\n",
    "ratio_mc_counts3.SetMarkerStyle(20)\n",
    "ratio_mc_counts3.GetXaxis().SetRangeUser(0.5,20)\n",
    "\n",
    "#pp\n",
    "efficiency4.SetLineColor(ROOT.kRed+3)\n",
    "efficiency4.SetMarkerColor(ROOT.kRed+3)\n",
    "efficiency4.SetMarkerStyle(20)\n",
    "\n",
    "fakerate4.SetLineColor(ROOT.kBlue+3)\n",
    "fakerate4.SetMarkerColor(ROOT.kBlue+3)\n",
    "fakerate4.SetMarkerStyle(20)\n",
    "\n",
    "ratio_mc_counts4.SetLineColor(ROOT.kMagenta+3)#blue\n",
    "ratio_mc_counts4.SetMarkerColor(ROOT.kMagenta+3)\n",
    "ratio_mc_counts4.SetMarkerStyle(20)\n",
    "ratio_mc_counts4.GetXaxis().SetRangeUser(0.5,13)\n",
    "\n",
    "legend = ROOT.TLegend(0.2, 0.35, 0.55, 0.55)\n",
    "legend.SetBorderSize(0)\n",
    "legend.SetHeader(\"Tracking Correction Factors\")\n",
    "#legend.AddEntry(ratio_mc_counts00, \"1 GeV binnning tracking study(\\\"corrected old\\\")\")\n",
    "#legend.AddEntry(ratio_mc_counts0, \"1 GeV binnning tracking study wRangeSet 1-15 (old)\")\n",
    "#legend.AddEntry(ratio_mc_counts1, \"variable binning(new)\")\n",
    "#legend.AddEntry(ratio_mc_counts2, \"pp binning-sent to fernando\")\n",
    "#legend.AddEntry(ratio_mc_counts4, \"all events pp binning\")\n",
    "\n",
    "legend.AddEntry(efficiency3, \"efficiency-pPb\")\n",
    "legend.AddEntry(fakerate3, \"fakerate-pPb\")\n",
    "legend.AddEntry(ratio_mc_counts3, \"bin migration-pPb\")\n",
    "\n",
    "legend.AddEntry(efficiency4, \"efficiency-pp\")\n",
    "legend.AddEntry(fakerate4, \"fakerate-pp\")\n",
    "legend.AddEntry(ratio_mc_counts4, \"bin migration-pp\")\n",
    "\n",
    "\n",
    "\n",
    "c = ROOT.TCanvas('c','c',600,600)\n",
    "#ratio_mc_counts00.Draw('e')\n",
    "#ratio_mc_counts0.Draw('samee')\n",
    "#ratio_mc_counts1.Draw('samee')\n",
    "#ratio_mc_counts2.Draw('samee')\n",
    "#ratio_mc_counts3.Draw('samee')\n",
    "\n",
    "efficiency3.Draw('e')\n",
    "fakerate3.Draw('samee')\n",
    "ratio_mc_counts3.Draw('samee')\n",
    "\n",
    "efficiency4.Draw('samee')\n",
    "fakerate4.Draw('samee')\n",
    "ratio_mc_counts4.Draw('samee')\n",
    "\n",
    "\n",
    "legend.Draw(\"same\")\n",
    "c.Update()\n",
    "c.Draw()\n",
    "\n",
    "#c.SaveAs(\"trackCorrectionFactors_pPbAndpp.png\")\n",
    "#c.SaveAs(\"trackCorrectionFactors_pPbAndpp.pdf\")"
   ]
  },
  {
   "cell_type": "code",
   "execution_count": null,
   "metadata": {},
   "outputs": [],
   "source": []
  },
  {
   "cell_type": "code",
   "execution_count": null,
   "metadata": {},
   "outputs": [],
   "source": []
  },
  {
   "cell_type": "code",
   "execution_count": null,
   "metadata": {},
   "outputs": [],
   "source": []
  }
 ],
 "metadata": {
  "kernelspec": {
   "display_name": "Python 2",
   "language": "python",
   "name": "python2"
  },
  "language_info": {
   "codemirror_mode": {
    "name": "ipython",
    "version": 3
   },
   "file_extension": ".py",
   "mimetype": "text/x-python",
   "name": "python",
   "nbconvert_exporter": "python",
   "pygments_lexer": "ipython3",
   "version": "3.5.2"
  }
 },
 "nbformat": 4,
 "nbformat_minor": 2
}
