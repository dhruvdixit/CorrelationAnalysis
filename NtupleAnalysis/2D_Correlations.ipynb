{
 "cells": [
  {
   "cell_type": "markdown",
   "metadata": {},
   "source": [
    "# Import packages"
   ]
  },
  {
   "cell_type": "code",
   "execution_count": 1,
   "metadata": {
    "scrolled": true
   },
   "outputs": [
    {
     "data": {
      "application/javascript": [
       "require(['codemirror/mode/clike/clike'], function(Clike) { console.log('ROOTaaS - C++ CodeMirror module loaded'); });"
      ]
     },
     "metadata": {},
     "output_type": "display_data"
    },
    {
     "data": {
      "application/javascript": [
       "IPython.CodeCell.config_defaults.highlight_modes['magic_text/x-c++src'] = {'reg':[/^%%cpp/]};"
      ]
     },
     "metadata": {},
     "output_type": "display_data"
    },
    {
     "name": "stdout",
     "output_type": "stream",
     "text": [
      "Welcome to ROOTaaS 6.06/06\n"
     ]
    }
   ],
   "source": [
    "from array import array\n",
    "import itertools\n",
    "import time\n",
    "import math\n",
    "\n",
    "from matplotlib.ticker import AutoMinorLocator, MultipleLocator\n",
    "\n",
    "import matplotlib.pyplot as plt\n",
    "\n",
    "import sys\n",
    "sys.path.insert(0,'/usr/common/software/rootpy/')\n",
    "import root_numpy\n",
    "import numpy as np\n",
    "\n",
    "\n",
    "#import astroML.plotting as aml\n",
    "#import iminuit\n",
    "import pandas as pd\n",
    "import root_pandas as rpd\n",
    "from root_pandas import read_root\n",
    "import ROOT\n",
    "from ROOT import TH1D\n",
    "from matplotlib.ticker import NullFormatter"
   ]
  },
  {
   "cell_type": "markdown",
   "metadata": {},
   "source": [
    "# File"
   ]
  },
  {
   "cell_type": "code",
   "execution_count": 2,
   "metadata": {},
   "outputs": [],
   "source": [
    "#RootFile = '13d_4L_newphi.root'\n",
    "#RootFile = '13d_4L_MB_newphi_0GeVTracks.root'\n",
    "#RootFile = '13f_4L_MB_0GeVTracks.root'\n",
    "#RootFile = '13f_4L_GMB_ratio.root'\n",
    "RootFile = '13d_4L_SE_GMB_Ratio.root'\n",
    "#RootFile = '13e_4L_SE_GMB_Ratio.root'"
   ]
  },
  {
   "cell_type": "markdown",
   "metadata": {},
   "source": [
    "# Define Bins"
   ]
  },
  {
   "cell_type": "code",
   "execution_count": 3,
   "metadata": {},
   "outputs": [],
   "source": [
    "#FIXME: Read from Corr_config.yaml\n",
    "zTbins = [0.05, 0.1, 0.2, 0.4, 0.6, 0.8, 1.0, 1.2]\n",
    "#pTbins = [10, 11, 12.5, 16]\n",
    "pTbins = [0, 0, 10, 16]\n",
    "pTbins = [0, 0, 12, 15]"
   ]
  },
  {
   "cell_type": "markdown",
   "metadata": {},
   "source": [
    "# Plot Titles"
   ]
  },
  {
   "cell_type": "code",
   "execution_count": 4,
   "metadata": {},
   "outputs": [],
   "source": [
    "def Plot1D (histo, ptbin, ztbin,DNN_Bool):\n",
    "    histo.SetTitle(\"Same/Mix: p_{T}^{Clus.}(%1.1f-%1.1f),  z_{T}(%1.2f-%1.2f)\"\n",
    "                   %(pTbins[ptbin],pTbins[ptbin+1],zTbins[ztbin],zTbins[ztbin+1]))\n",
    "    histo.GetXaxis().SetTitle(\"#Delta#eta\")\n",
    "    histo.GetYaxis().SetTitle(\"#frac{1}{N_{Trig}}#frac{d^{2}N}{d#phid#eta}\")\n",
    "    histo.GetYaxis().SetTitleOffset(1)\n",
    "    ROOT.gStyle.SetOptStat(\"\")\n",
    "    if not(DNN_Bool):\n",
    "        histo.SetLineColor(2)"
   ]
  },
  {
   "cell_type": "code",
   "execution_count": 5,
   "metadata": {},
   "outputs": [],
   "source": [
    "def Plot2D (histo2D,ptbin,ztbin,DNN_Bool):\n",
    "    DNN_Rgn = int(Signal_DNN) + 2*(1-int(Signal_DNN))\n",
    "    histo2D.GetXaxis().SetTitle(\"#Delta#phi\")\n",
    "    histo2D.GetYaxis().SetTitle(\"#Delta#eta\")\n",
    "    #histo2D.GetZaxis().SetTitle(\"#frac{1}{N_{Trig}}#frac{d^{2}N}{d#phid#eta}\")\n",
    "    histo2D.GetZaxis().SetTitle(\"#frac{d^{2}N}{d#phid#eta}\")\n",
    "    histo2D.SetTitle('#gamma-MB Mixed Events: DNN%i pT (%1.0f-%1.0f) zT (%1.2f-%1.2f)' \n",
    "    #histo2D.SetTitle('#gamma-hadron Events: DNN%i pT (%1.0f-%1.0f) zT (%1.2f-%1.2f)' \n",
    "                       %(DNN_Rgn,pTbins[ptbin],pTbins[ptbin+1],zTbins[ztbin],zTbins[ztbin+1]))\n",
    "    #ROOT.gStyle.SetOptStat(\"\")\n",
    "    histo2D.GetYaxis().SetRangeUser(-1.2,1.2)\n",
    "    histo2D.GetZaxis().SetTitleOffset(2)\n",
    "    #ROOT.gStyle.SetOptStat(\"\")"
   ]
  },
  {
   "cell_type": "code",
   "execution_count": 6,
   "metadata": {},
   "outputs": [],
   "source": [
    "def Get_NTriggers(filename, ipt, Signal_DNN=True):\n",
    "    DNN_Rgn = int(Signal_DNN) + 2*(1-int(Signal_DNN)) \n",
    "    file = ROOT.TFile(filename)\n",
    "    ntrig_histo = file.Get('N_Triggers_pT%1.0f_%1.0f' %(pTbins[ipt],pTbins[ipt+1]))\n",
    "    NTriggers = 1\n",
    "    if not(ntrig_histo == None):\n",
    "        NTriggers = ntrig_histo.GetEntries()\n",
    "    file.Close()\n",
    "    return NTriggers"
   ]
  },
  {
   "cell_type": "markdown",
   "metadata": {},
   "source": [
    "# 2D Correlations"
   ]
  },
  {
   "cell_type": "code",
   "execution_count": 7,
   "metadata": {},
   "outputs": [],
   "source": [
    "def Get2D(filename, ipt, izt, Signal_DNN=True):\n",
    "\n",
    "    DNN_Rgn = int(Signal_DNN) + 2*(1-int(Signal_DNN)) #convert bool to DNN_1 (Sgn) or DNN_2 (Bkgd)\n",
    "    file = ROOT.TFile(filename)\n",
    "    histoDNN = file.Get('DNN%i_Correlation__pT%1.0f_%1.0f__zT%1.0f_zT%1.0f' \n",
    "                       %(DNN_Rgn,pTbins[ipt],pTbins[ipt+1],10*zTbins[izt],10*zTbins[izt+1]))\n",
    "    \n",
    "    #histoDNN = file.Get('Correlation__pT%1.0f_%1.0f__zT%1.0f_zT%1.0f' \n",
    "    #                   %(pTbins[ipt],pTbins[ipt+1],10*zTbins[izt],10*zTbins[izt+1]))\n",
    "    \n",
    "    histoDNN.SetTitle('#gamme-hadron [High DNN] pT (%1.0f-%1.0f) zT (%1.2f-%1.2f)' \n",
    "                       %(pTbins[ipt],pTbins[ipt+1],zTbins[izt],zTbins[izt+1]))\n",
    "    \n",
    "    histoDNN.RebinX(2)\n",
    "    histoDNN.SetDirectory(0)\n",
    "    Plot2D(histoDNN,ipt,izt,Signal_DNN)\n",
    "    \n",
    "    file.Close()\n",
    "    return histoDNN"
   ]
  },
  {
   "cell_type": "code",
   "execution_count": 8,
   "metadata": {},
   "outputs": [],
   "source": [
    "def Loop2D(filename,Signal_DNN=True):\n",
    "    DNN_Rgn = int(Signal_DNN) + 2*(1-int(Signal_DNN))\n",
    "    canvases = []\n",
    "    for ipt in range(3):\n",
    "        if(ipt > 0): continue\n",
    "        canvases.append(ROOT.TCanvas(\"Canvas%i\"%(ipt),\"Canvas\",6000,5000))\n",
    "        canvases[ipt].Divide(2,2)\n",
    "        for izt in range(4):\n",
    "            #histoDNN = Get2D(filename,ipt,izt,Signal_DNN)\n",
    "            histoDNN = Get2D(filename,ipt+2,izt,Signal_DNN)\n",
    "            canvases[ipt].cd(izt+1)\n",
    "            gpad1 = canvases[ipt].cd(izt+1)\n",
    "            gpad1.SetLeftMargin(0.15)\n",
    "            histoDNN.Draw(\"SURF2\")\n",
    "            canvases[ipt].SetLeftMargin(0.15)\n",
    "    return canvases\n"
   ]
  },
  {
   "cell_type": "code",
   "execution_count": null,
   "metadata": {
    "scrolled": false
   },
   "outputs": [],
   "source": [
    "Signal_DNN = True\n",
    "DNN_Rgn = int(Signal_DNN) + 2*(1-int(Signal_DNN))\n",
    "print (DNN_Rgn)\n",
    "canvases = Loop2D(RootFile,Signal_DNN)\n",
    "ROOT.disableJSVis()\n",
    "for ipt in range(3):\n",
    "    if (ipt > 0): continue\n",
    "    canvases[ipt].Draw()\n",
    "    canvases[ipt].SaveAs('pics/2D_MIX_Correlations_CombinedGeV_DNN_%i.png'%(DNN_Rgn))"
   ]
  },
  {
   "cell_type": "markdown",
   "metadata": {},
   "source": [
    "# Phi Projection"
   ]
  },
  {
   "cell_type": "markdown",
   "metadata": {},
   "source": [
    "<sup>**NOTE**: The DNN corresponding to one photon is reflected in the naming scheme of histograms, where DNN1_Histo is signal (the same here) but background (DNN corresponding to 2 photons) is DNN2_Histo. Here, the DNN variable is a boolian corresponding to *true for signal*, *false for background*<sup>"
   ]
  },
  {
   "cell_type": "code",
   "execution_count": null,
   "metadata": {},
   "outputs": [],
   "source": [
    "def GetPhiProj(filename, ipt, izt, Signal_DNN=True):\n",
    "\n",
    "    DNN_Rgn = int(Signal_DNN) + 2*(1-int(Signal_DNN)) #convert bool to DNN_1 (Sgn) or DNN_2 (Bkgd)\n",
    "    file = ROOT.TFile(filename)\n",
    "    histo2D = file.Get('DNN%i_Correlation__pT%1.0f_%1.0f__zT%1.0f_zT%1.0f' \n",
    "                       %(DNN_Rgn,pTbins[ipt],pTbins[ipt+1],10*zTbins[izt],10*zTbins[izt+1]))\n",
    "    #integral\n",
    "    Eta_Axis = histo2D.GetYaxis()\n",
    "    PhiProjection = histo2D.ProjectionX('DNN%i_PhiProjection__pT_%1.0f_%1.0f__zt_%1.0f_%1.0f' \n",
    "                                  %(DNN_Rgn,pTbins[ipt],pTbins[ipt+1],10*zTbins[izt],\n",
    "                                    10*zTbins[izt+1]),Eta_Axis.FindBin(-0.6),Eta_Axis.FindBin(0.6));\n",
    "    PhiProjection.SetDirectory(0)\n",
    "    PhiProjection.Scale(1.0/1.2) #scale by eta region\n",
    "    \n",
    "    Plot1D(PhiProjection,ipt,izt,Signal_DNN)\n",
    "    \n",
    "    zyam = PhiProjection.Integral(11,13)/3\n",
    "    # how do I plot ZYAM, perhaps in both cases?\n",
    "    #print('ZYAM=%f'%(zyam))\n",
    "  \n",
    "    file.Close()\n",
    "    return PhiProjection"
   ]
  },
  {
   "cell_type": "markdown",
   "metadata": {},
   "source": [
    "# Eta Projection"
   ]
  },
  {
   "cell_type": "code",
   "execution_count": null,
   "metadata": {},
   "outputs": [],
   "source": [
    "def GetEtaProj(filename, ipt, izt, Signal_DNN=True):\n",
    "\n",
    "    DNN_Rgn = int(Signal_DNN) + 2*(1-int(Signal_DNN)) #convert bool to DNN_1 (Sgn) or DNN_2 (Bkgd)\n",
    "    file = ROOT.TFile(filename)\n",
    "    histo2D = file.Get('DNN%i_Correlation__pT%1.0f_%1.0f__zT%1.0f_zT%1.0f' \n",
    "                       %(DNN_Rgn,pTbins[ipt],pTbins[ipt+1],10*zTbins[izt],10*zTbins[izt+1]))\n",
    "    #histo2D = file.Get('hadron_hadron_corr')\n",
    "    \n",
    "    print(histo2D)\n",
    "    #integral\n",
    "    Phi_Axis = histo2D.GetXaxis()\n",
    "    EtaProjection = histo2D.ProjectionY('DNN%i_EtaProjection__pT_%1.0f_%1.0f__zt_%1.0f_%1.0f' \n",
    "                                  %(DNN_Rgn,pTbins[ipt],pTbins[ipt+1],10*zTbins[izt],\n",
    "                                    10*zTbins[izt+1]),Phi_Axis.FindBin(0.0),Phi_Axis.FindBin(math.pi/2));\n",
    "    EtaProjection.SetDirectory(0)\n",
    "    EtaProjection.Scale(1.0/1.2) #scale by eta region\n",
    "    ntriggers = Get_NTriggers(filename, ipt, Signal_DNN)    \n",
    "    EtaProjection.Scale(1.0/ntriggers) #per trigger yield\n",
    "    \n",
    "    Plot1D(EtaProjection,ipt,izt,Signal_DNN)\n",
    "    \n",
    "    #zyam = EtaProjection.Integral(11,13)/3\n",
    "    # how do I plot ZYAM, perhaps in both cases?\n",
    "    #print('ZYAM=%f'%(zyam))\n",
    "  \n",
    "    file.Close()\n",
    "    return EtaProjection"
   ]
  },
  {
   "cell_type": "markdown",
   "metadata": {},
   "source": [
    "# Loop and Plot Eta"
   ]
  },
  {
   "cell_type": "code",
   "execution_count": null,
   "metadata": {
    "scrolled": false
   },
   "outputs": [],
   "source": [
    "for ptbin in range(3):\n",
    "    if(ptbin > 0): continue\n",
    "    ptbin = ptbin+2\n",
    "    canvases = ROOT.TCanvas(\"canv_phi\",\"canv_phi\",3500,2500)\n",
    "    canvases.Divide(4,3)\n",
    "    \n",
    "    for ztbin in range(6):\n",
    "    \n",
    "        #grab\n",
    "        hsig = GetEtaProj(RootFile,ptbin,ztbin,True) #change DNN\n",
    "        hbkg = GetEtaProj(RootFile,ptbin,ztbin,False)\n",
    " \n",
    "        #same scale\n",
    "        ymax = 1.2*max(hsig.GetMaximum(),hbkg.GetMaximum())\n",
    "        hsig.GetYaxis().SetRangeUser(0,ymax)\n",
    "        hbkg.GetYaxis().SetRangeUser(0,ymax)    \n",
    "    \n",
    "        #Signal\n",
    "        canvases.cd(ztbin*2+1)\n",
    "        hsig.SetMarkerStyle(15)\n",
    "        #hsig.SetMarkerSize(4)\n",
    "        hsig.SetMarkerColor(4)\n",
    "        hsig.Draw()\n",
    "        \n",
    "        #Background\n",
    "        canvases.cd(ztbin*2+2)\n",
    "        hbkg.SetMarkerStyle(15)\n",
    "        #hbkg.SetMarkerSize(4)\n",
    "        hbkg.SetMarkerColor(2)\n",
    "        hbkg.Draw()\n",
    "        #legend.AddEntry(hbkg,\"Low DNN\",\"l\")\n",
    "        #legend.Draw(\"same\")\n",
    "    \n",
    "    canvases.Draw()\n",
    "    canvases.SaveAs(\"pics/13d_Large_Eta_Corrected_ISO_Projections_Trigger_pt_%i.png\"%(ptbin))"
   ]
  },
  {
   "cell_type": "code",
   "execution_count": null,
   "metadata": {},
   "outputs": [],
   "source": [
    "RootFile2 = '13d_Same_Mix_Ratio_v1.root'\n",
    "legend = [3]\n",
    "for ptbin in range(3):\n",
    "    if(ptbin > 0): continue\n",
    "    ptbin = ptbin+2\n",
    "    canvases = ROOT.TCanvas(\"canv_phi\",\"canv_phi\",3500,2500)\n",
    "    canvases.Divide(3,2)\n",
    "    legend[ptbin-2] = ROOT.TLegend(0.74,0.78,0.89,0.88)\n",
    "    for ztbin in range(6):\n",
    "    \n",
    "        #grab\n",
    "        hsig = GetEtaProj(RootFile,ptbin,ztbin,True) #no subtraction, change DNN\n",
    "        hbkg = GetEtaProj(RootFile,ptbin,ztbin,False)\n",
    "        #hsig2 = GetEtaProj(RootFile2,ptbin,ztbin,True)\n",
    "\n",
    "        \n",
    "        #same scale\n",
    "        ymax = 1.2*max(hsig.GetMaximum(),hbkg.GetMaximum())\n",
    "        hsig.GetYaxis().SetRangeUser(0,ymax)\n",
    "        hbkg.GetYaxis().SetRangeUser(0,ymax)    \n",
    "    \n",
    "        #Signal\n",
    "        canvases.cd(ztbin+1)\n",
    "        hsig.SetMarkerStyle(15)\n",
    "        #hsig.SetMarkerSize(4)\n",
    "        hsig.SetMarkerColor(4)\n",
    "        hsig.Draw()\n",
    "        #hsig2.SetMarkerStyle(15)\n",
    "        #hsig2.SetMarkerColor(3)\n",
    "        #hsig2.SetLineColor(3)\n",
    "        #hsig2.Draw(\"same\")\n",
    "        if(ztbin < 1):\n",
    "            legend[ptbin-2].AddEntry(hsig, \"13d\",\"l\")\n",
    "            #legend[ptbin-2].AddEntry(hsig2, \"13d\",\"l\")\n",
    "        legend[ptbin-2].Draw()\n",
    "        #SetOwnership(legend, 0)\n",
    "        \n",
    "    \n",
    "    canvases.Draw()   \n",
    "    #canvases.SaveAs(\"pics/13fd_overlay_Eta_Same_Mix_Projections_Trigger_pt_%i.png\"%(ptbin))"
   ]
  },
  {
   "cell_type": "code",
   "execution_count": null,
   "metadata": {},
   "outputs": [],
   "source": []
  },
  {
   "cell_type": "code",
   "execution_count": null,
   "metadata": {},
   "outputs": [],
   "source": []
  }
 ],
 "metadata": {
  "kernelspec": {
   "display_name": "root_numpy",
   "language": "python",
   "name": "root_numpy"
  },
  "language_info": {
   "codemirror_mode": {
    "name": "ipython",
    "version": 2
   },
   "file_extension": ".py",
   "mimetype": "text/x-python",
   "name": "python",
   "nbconvert_exporter": "python",
   "pygments_lexer": "ipython2",
   "version": "2.7.13"
  }
 },
 "nbformat": 4,
 "nbformat_minor": 2
}
