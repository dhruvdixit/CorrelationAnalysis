{
 "cells": [
  {
   "cell_type": "markdown",
   "metadata": {},
   "source": [
    "# Import packages"
   ]
  },
  {
   "cell_type": "code",
   "execution_count": 1,
   "metadata": {},
   "outputs": [
    {
     "name": "stdout",
     "output_type": "stream",
     "text": [
      "Welcome to JupyROOT 6.13/01\n"
     ]
    },
    {
     "name": "stderr",
     "output_type": "stream",
     "text": [
      "/opt/local/Library/Frameworks/Python.framework/Versions/2.7/lib/python2.7/inspect.py:252: RuntimeWarning: creating converter for unknown type \"_Atomic(bool)\"\n",
      "  value = getattr(object, key)\n"
     ]
    }
   ],
   "source": [
    "#import matplotlib.pyplot as plt\n",
    "#import numpy as np\n",
    "#import sys\n",
    "#import time\n",
    "#import ROOT\n",
    "#import pandas as pd\n",
    "#from root_pandas import read_root\n",
    "#from matplotlib.ticker import NullFormatter\n",
    "#import matplotlib as mpl\n",
    "#from iminuit import Minuit, describe, Struct\n",
    "#import astroML.plotting as aml\n",
    "from array import array\n",
    "import itertools\n",
    "import time\n",
    "\n",
    "import rootpy.plotting.root2matplotlib as rplt\n",
    "from rootpy.plotting.style import get_style, set_style\n",
    "from matplotlib.ticker import AutoMinorLocator, MultipleLocator\n",
    "\n",
    "import matplotlib.pyplot as plt\n",
    "import numpy as np\n",
    "\n",
    "import astroML.plotting as aml\n",
    "import iminuit\n",
    "import pandas as pd\n",
    "import root_pandas as rpd\n",
    "from root_pandas import read_root\n",
    "import ROOT\n",
    "from ROOT import TH1D\n",
    "#from ROOT import TApplication as TAP\n",
    "from matplotlib.ticker import NullFormatter\n"
   ]
  },
  {
   "cell_type": "markdown",
   "metadata": {},
   "source": [
    "# Define Bins"
   ]
  },
  {
   "cell_type": "code",
   "execution_count": 2,
   "metadata": {},
   "outputs": [],
   "source": [
    "zTbins = [0.05, 0.1, 0.2, 0.4, 0.6, 0.8, 1.0, 1.2]\n",
    "pTbins = [10, 11, 12.5, 16]"
   ]
  },
  {
   "cell_type": "markdown",
   "metadata": {},
   "source": [
    "# Phi Projection & ZYAM"
   ]
  },
  {
   "cell_type": "markdown",
   "metadata": {},
   "source": [
    "#### NOTE: The DNN corresponding to one photon is reflected in the naming scheme of histograms, where DNN1_Histo is signal (the same here) but background (DNN corresponding to 2 photons) is DNN2_Histo. Here, the DNN variable is a boolian corresponding to true for signal, false for not signal (a.k.a. background)"
   ]
  },
  {
   "cell_type": "code",
   "execution_count": 3,
   "metadata": {},
   "outputs": [],
   "source": [
    "def GetPhiProj(filename, ipt, izt, Signal_DNN=True, doZYAM=True):\n",
    "    DNN_Rgn = int(Signal_DNN) + 2*(1-int(Signal_DNN)) #convert bool to DNN_1 (Sgn) or DNN_2 (Bkgd)\n",
    "    file = ROOT.TFile(filename)\n",
    "    histo2D = file.Get('DNN%i_Correlation__pT%1.0f_%1.0f__zT%1.0f_zT%1.0f' \n",
    "                       %(DNN_Rgn,pTbins[ipt],pTbins[ipt+1],10*zTbins[izt],10*zTbins[izt+1]))\n",
    "\n",
    "    Eta_Axis = histo2D.GetYaxis()\n",
    "    PhiProjection = histo2D.ProjectionX('DNN%i_PhiProjection__pT_%1.0f_%1.0f__zt_%1.0f_%1.0f' \n",
    "                                  %(DNN_Rgn,pTbins[ipt],pTbins[ipt+1],10*zTbins[izt],\n",
    "                                    10*zTbins[izt+1]),Eta_Axis.FindBin(-0.6),Eta_Axis.FindBin(0.6));\n",
    "    PhiProjection.SetDirectory(0)\n",
    "    ntriggers = file.Get('N_DNN%i_Triggers_pT%1.0f_%1.0f' %(DNN_Rgn,pTbins[ipt],pTbins[ipt+1]))\n",
    "    PhiProjection.Scale(1.0/ntriggers.GetEntries())\n",
    "    \n",
    "    zyam = PhiProjection.Integral(11,13)/3\n",
    "    print('ZYAM=%f'%(zyam))\n",
    "    if(doZYAM):\n",
    "        for i in range(25):\n",
    "            y = PhiProjection.GetBinContent(i)\n",
    "            y_error = PhiProjection.GetBinError(i)\n",
    "            new_y = y-zyam\n",
    "            PhiProjection.SetBinContent(i,new_y)\n",
    "            #assumes 0 error in ZYAM\n",
    "            new_y_error = y_error\n",
    "            PhiProjection.SetBinError(i,new_y_error) \n",
    "\n",
    "#    c = ROOT.TCanvas(\"canvas\",\"canvas\",1000,1000)\n",
    "#    PhiProjection.Draw()    #c.Draw()\n",
    "#    how do I plot ZYAM, perhaps in both cases?\n",
    "#    c.SaveAs(\"testPython.png\")\n",
    "#    return PhiProjection\n",
    "#    style = get_style('ATLAS')\n",
    "#    style.SetEndErrorSize(3)\n",
    "#    set_style(style)\n",
    "#    set_style('ATLAS', mpl=True)\n",
    "#    fig = plt.figure(figsize=(3, 2), dpi=100)\n",
    "#    axes = plt.axes()\n",
    "#    axes.xaxis.set_minor_locator(AutoMinorLocator())\n",
    "#    axes.yaxis.set_minor_locator(AutoMinorLocator())\n",
    "#    axes.yaxis.set_major_locator(MultipleLocator(20))  \n",
    "#    rplt.bar(PhiProjection, stacked=False, axes=axes)\n",
    "#    rplt.errorbar(PhiProjection, xerr=False, yerr=False, emptybins=False, axes=axes)\n",
    "#    plt.show()\n",
    "\n",
    "    return PhiProjection"
   ]
  },
  {
   "cell_type": "markdown",
   "metadata": {},
   "source": [
    "SetDirectory(0) needed because when a file in root is called, the gDirectory is changed to point to it. The creation of a histogram (PhiProjection) is associated to that file and contains a local reference, which is destroyed when the function exits. Thus, returns 'None' unless the Directory (reference) is changed."
   ]
  },
  {
   "cell_type": "code",
   "execution_count": 4,
   "metadata": {
    "scrolled": true
   },
   "outputs": [
    {
     "name": "stdout",
     "output_type": "stream",
     "text": [
      "ZYAM=0.149611\n"
     ]
    }
   ],
   "source": [
    "Sig = GetPhiProj('Same_Mix_Ratio.root',1,1,True,False)#equal to returned plot"
   ]
  },
  {
   "cell_type": "markdown",
   "metadata": {},
   "source": [
    "# Low DNN Subtraction"
   ]
  },
  {
   "cell_type": "code",
   "execution_count": 5,
   "metadata": {},
   "outputs": [],
   "source": [
    "def GetBKGsubtracted(filename, ptbin, ztbin, doZYAM=True):\n",
    "    Signal = GetPhiProj(filename,ptbin,ztbin,True,doZYAM)\n",
    "    Background = GetPhiProj(filename,ptbin,ztbin,False,doZYAM)\n",
    "    #purity = GetBinContent(ptbin)\n",
    "    purity = 0.4\n",
    "    Background.Scale(purity)\n",
    "    Signal.Add(Background,-1)\n",
    "    return Signal"
   ]
  },
  {
   "cell_type": "code",
   "execution_count": 7,
   "metadata": {},
   "outputs": [
    {
     "name": "stderr",
     "output_type": "stream",
     "text": [
      "INFO:ROOT.TCanvas.Print] png file /var/folders/sb/3pv8gzkj4p707dtpxqcgvdgr0000gn/T/tmpvB5sUH.png has been created\n"
     ]
    },
    {
     "name": "stdout",
     "output_type": "stream",
     "text": [
      "ZYAM=0.003671\n",
      "ZYAM=0.003033\n"
     ]
    },
    {
     "data": {
      "image/png": "[encoded data removed]",
      "text/plain": [
       "<ROOT.TH1D object (\"DNN1_PhiProjection__pT_11_12__zt_4_6\") at 0x7f97b8341720>"
      ]
     },
     "execution_count": 7,
     "metadata": {},
     "output_type": "execute_result"
    }
   ],
   "source": [
    "GetBKGsubtracted('Same_Mix_Ratio.root',1,3,True)"
   ]
  },
  {
   "cell_type": "code",
   "execution_count": null,
   "metadata": {},
   "outputs": [],
   "source": []
  },
  {
   "cell_type": "code",
   "execution_count": null,
   "metadata": {},
   "outputs": [],
   "source": []
  },
  {
   "cell_type": "code",
   "execution_count": null,
   "metadata": {},
   "outputs": [],
   "source": []
  },
  {
   "cell_type": "code",
   "execution_count": null,
   "metadata": {},
   "outputs": [],
   "source": []
  }
 ],
 "metadata": {
  "kernelspec": {
   "display_name": "Python 2",
   "language": "python",
   "name": "python2"
  },
  "language_info": {
   "codemirror_mode": {
    "name": "ipython",
    "version": 2
   },
   "file_extension": ".py",
   "mimetype": "text/x-python",
   "name": "python",
   "nbconvert_exporter": "python",
   "pygments_lexer": "ipython2",
   "version": "2.7.14"
  }
 },
 "nbformat": 4,
 "nbformat_minor": 2
}
