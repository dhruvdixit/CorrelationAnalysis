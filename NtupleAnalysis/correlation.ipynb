{
 "cells": [
  {
   "cell_type": "markdown",
   "metadata": {},
   "source": [
    "# Import packages"
   ]
  },
  {
   "cell_type": "code",
   "execution_count": 8,
   "metadata": {},
   "outputs": [],
   "source": [
    "#import matplotlib.pyplot as plt\n",
    "#import numpy as np\n",
    "#import sys\n",
    "#import time\n",
    "#import ROOT\n",
    "#import pandas as pd\n",
    "#from root_pandas import read_root\n",
    "#from matplotlib.ticker import NullFormatter\n",
    "#import matplotlib as mpl\n",
    "#from iminuit import Minuit, describe, Struct\n",
    "#import astroML.plotting as aml\n",
    "from array import array\n",
    "import itertools\n",
    "import time\n",
    "\n",
    "import matplotlib.pyplot as plt\n",
    "import numpy as np\n",
    "\n",
    "import astroML.plotting as aml\n",
    "import iminuit\n",
    "import pandas as pd\n",
    "import root_pandas as rpd\n",
    "from root_pandas import read_root\n",
    "import ROOT\n",
    "#from ROOT import TApplication as TAP\n",
    "from matplotlib.ticker import NullFormatter\n"
   ]
  },
  {
   "cell_type": "markdown",
   "metadata": {},
   "source": [
    "# Define Bins"
   ]
  },
  {
   "cell_type": "code",
   "execution_count": 9,
   "metadata": {},
   "outputs": [],
   "source": [
    "zTbins = [0.05, 0.1, 0.2, 0.4, 0.6, 0.8, 1.0, 1.2]\n",
    "pTbins = [10, 11, 12.5, 16]"
   ]
  },
  {
   "cell_type": "markdown",
   "metadata": {},
   "source": [
    "# Phi Projection & ZYAM"
   ]
  },
  {
   "cell_type": "code",
   "execution_count": 10,
   "metadata": {},
   "outputs": [],
   "source": [
    "def GetPhiProj(filename, ipt, izt, Signal_DNN=True, doZYAM=True):\n",
    "    DNN_Rgn = int(Signal_DNN) + 2*(1-int(Signal_DNN))\n",
    "    file = ROOT.TFile(filename)\n",
    "    histo2D = file.Get('DNN%i_Correlation__pT%1.0f_%1.0f__zT%1.0f_zT%1.0f' \n",
    "                       %(DNN_Rgn,pTbins[ipt],pTbins[ipt+1],10*zTbins[izt],10*zTbins[izt+1]))\n",
    "\n",
    "    Eta_Axis = histo2D.GetYaxis()\n",
    "    PhiProjection = histo2D.ProjectionX('DNN%i_PhiProjection__pT_%1.0f_%1.0f__zt_%1.0f_%1.0f' \n",
    "                                  %(DNN_Rgn,pTbins[ipt],pTbins[ipt+1],10*zTbins[izt],\n",
    "                                    10*zTbins[izt+1]),Eta_Axis.FindBin(-0.6),Eta_Axis.FindBin(0.6));\n",
    "    \n",
    "    ntriggers = file.Get('N_DNN%i_Triggers_pT%1.0f_%1.0f' %(DNN_Rgn,pTbins[ipt],pTbins[ipt+1]))\n",
    "    PhiProjection.Scale(1.0/ntriggers.GetEntries())\n",
    "    \n",
    "    zyam = PhiProjection.Integral(11,13)/3\n",
    "    print('ZYAM=%f'%(zyam))\n",
    "    if(doZYAM):\n",
    "        for i in range(25):\n",
    "            y = PhiProjection.GetBinContent(i)\n",
    "            y_error = PhiProjection.GetBinError(i)\n",
    "            new_y = y-zyam\n",
    "            PhiProjection.SetBinContent(i,new_y)\n",
    "            #assumes 0 error in ZYAM\n",
    "            new_y_error = y_error\n",
    "            PhiProjection.SetBinError(i,new_y_error) \n",
    "    print(PhiProjection.GetEntries())        \n",
    "    \n",
    "#how do I plot ZYAM, in both cases?\n",
    "# c.SaveAs(\"testPython.png\")\n",
    "    return PhiProjection"
   ]
  },
  {
   "cell_type": "markdown",
   "metadata": {},
   "source": [
    "#### NOTE: The DNN corresponding to one photon is reflected in the naming scheme of histograms, where DNN1_Histo is signal (the same here) but background (DNN corresponding to 2 photons) is DNN2_Histo. Here, the DNN variable is a boolian corresponding to true for signal, false for not signal (a.k.a. background)"
   ]
  },
  {
   "cell_type": "code",
   "execution_count": 15,
   "metadata": {},
   "outputs": [
    {
     "name": "stdout",
     "output_type": "stream",
     "text": [
      "ZYAM=0.032232\n",
      "3248.0\n",
      "None\n"
     ]
    }
   ],
   "source": [
    "Sig=GetPhiProj('Same_Mix_Ratio.root',1,2,True,False)\n",
    "print(Sig)"
   ]
  },
  {
   "cell_type": "markdown",
   "metadata": {},
   "source": [
    "<img src=\"testPython.png\">"
   ]
  },
  {
   "cell_type": "markdown",
   "metadata": {},
   "source": [
    "# Low DNN Subtraction"
   ]
  },
  {
   "cell_type": "code",
   "execution_count": 5,
   "metadata": {},
   "outputs": [],
   "source": [
    "def GetBKGsubtracted(filename, ptbin, ztbin, doZYAM=True):\n",
    "    Signal = GetPhiProj(filename,ptbin,ztbin,True,doZYAM)\n",
    "    Background = GetPhiProj(filename,ptbin,ztbin,False,doZYAM)\n",
    "    #purity = GetBinContent(ptbin)\n",
    "    purity = 0.4\n",
    "    Background.Scale(purity)\n",
    "    Signal.Add(Background,-1)\n",
    "    c = TCanvas(\"canvas\",\"canvas\", 1000,800)\n",
    "    Signal.Draw()\n",
    "    c.SaveAs(\"Subtracted.pdf\")\n",
    "    return Signal\n",
    "    "
   ]
  },
  {
   "cell_type": "code",
   "execution_count": 6,
   "metadata": {},
   "outputs": [
    {
     "name": "stdout",
     "output_type": "stream",
     "text": [
      "ZYAM=0.003671\n",
      "463.0\n",
      "ZYAM=0.003033\n",
      "434.0\n"
     ]
    },
    {
     "ename": "AttributeError",
     "evalue": "'PyROOT_NoneType' object has no attribute 'Scale'",
     "output_type": "error",
     "traceback": [
      "\u001b[0;31m\u001b[0m",
      "\u001b[0;31mAttributeError\u001b[0mTraceback (most recent call last)",
      "\u001b[0;32m<ipython-input-6-ecae6a3ccda2>\u001b[0m in \u001b[0;36m<module>\u001b[0;34m()\u001b[0m\n\u001b[0;32m----> 1\u001b[0;31m \u001b[0mGetBKGsubtracted\u001b[0m\u001b[0;34m(\u001b[0m\u001b[0;34m'Same_Mix_Ratio.root'\u001b[0m\u001b[0;34m,\u001b[0m\u001b[0;36m1\u001b[0m\u001b[0;34m,\u001b[0m\u001b[0;36m3\u001b[0m\u001b[0;34m,\u001b[0m\u001b[0mTrue\u001b[0m\u001b[0;34m)\u001b[0m\u001b[0;34m\u001b[0m\u001b[0m\n\u001b[0m",
      "\u001b[0;32m<ipython-input-5-db0c602ffd38>\u001b[0m in \u001b[0;36mGetBKGsubtracted\u001b[0;34m(filename, ptbin, ztbin, doZYAM)\u001b[0m\n\u001b[1;32m      4\u001b[0m     \u001b[0;31m#purity = GetBinContent(ptbin)\u001b[0m\u001b[0;34m\u001b[0m\u001b[0;34m\u001b[0m\u001b[0m\n\u001b[1;32m      5\u001b[0m     \u001b[0mpurity\u001b[0m \u001b[0;34m=\u001b[0m \u001b[0;36m0.4\u001b[0m\u001b[0;34m\u001b[0m\u001b[0m\n\u001b[0;32m----> 6\u001b[0;31m     \u001b[0mBackground\u001b[0m\u001b[0;34m.\u001b[0m\u001b[0mScale\u001b[0m\u001b[0;34m(\u001b[0m\u001b[0mpurity\u001b[0m\u001b[0;34m)\u001b[0m\u001b[0;34m\u001b[0m\u001b[0m\n\u001b[0m\u001b[1;32m      7\u001b[0m     \u001b[0mSignal\u001b[0m\u001b[0;34m.\u001b[0m\u001b[0mAdd\u001b[0m\u001b[0;34m(\u001b[0m\u001b[0mBackground\u001b[0m\u001b[0;34m,\u001b[0m\u001b[0;34m-\u001b[0m\u001b[0;36m1\u001b[0m\u001b[0;34m)\u001b[0m\u001b[0;34m\u001b[0m\u001b[0m\n\u001b[1;32m      8\u001b[0m     \u001b[0mc\u001b[0m \u001b[0;34m=\u001b[0m \u001b[0mTCanvas\u001b[0m\u001b[0;34m(\u001b[0m\u001b[0;34m\"canvas\"\u001b[0m\u001b[0;34m,\u001b[0m\u001b[0;34m\"canvas\"\u001b[0m\u001b[0;34m,\u001b[0m \u001b[0;36m1000\u001b[0m\u001b[0;34m,\u001b[0m\u001b[0;36m800\u001b[0m\u001b[0;34m)\u001b[0m\u001b[0;34m\u001b[0m\u001b[0m\n",
      "\u001b[0;31mAttributeError\u001b[0m: 'PyROOT_NoneType' object has no attribute 'Scale'"
     ]
    }
   ],
   "source": [
    "GetBKGsubtracted('Same_Mix_Ratio.root',1,3,True)"
   ]
  },
  {
   "cell_type": "code",
   "execution_count": null,
   "metadata": {},
   "outputs": [],
   "source": []
  }
 ],
 "metadata": {
  "kernelspec": {
   "display_name": "Python 2",
   "language": "python",
   "name": "python2"
  },
  "language_info": {
   "codemirror_mode": {
    "name": "ipython",
    "version": 2
   },
   "file_extension": ".py",
   "mimetype": "text/x-python",
   "name": "python",
   "nbconvert_exporter": "python",
   "pygments_lexer": "ipython2",
   "version": "2.7.14"
  }
 },
 "nbformat": 4,
 "nbformat_minor": 2
}
