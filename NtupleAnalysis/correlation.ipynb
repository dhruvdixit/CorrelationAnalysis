{
 "cells": [
  {
   "cell_type": "markdown",
   "metadata": {},
   "source": [
    "# Import packages"
   ]
  },
  {
   "cell_type": "code",
   "execution_count": 1,
   "metadata": {},
   "outputs": [
    {
     "name": "stdout",
     "output_type": "stream",
     "text": [
      "Welcome to JupyROOT 6.13/01\n"
     ]
    },
    {
     "name": "stderr",
     "output_type": "stream",
     "text": [
      "/opt/local/Library/Frameworks/Python.framework/Versions/2.7/lib/python2.7/inspect.py:252: RuntimeWarning: creating converter for unknown type \"_Atomic(bool)\"\n",
      "  value = getattr(object, key)\n"
     ]
    }
   ],
   "source": [
    "#import matplotlib.pyplot as plt\n",
    "#import numpy as np\n",
    "#import sys\n",
    "#import time\n",
    "#import ROOT\n",
    "#import pandas as pd\n",
    "#from root_pandas import read_root\n",
    "#from matplotlib.ticker import NullFormatter\n",
    "#import matplotlib as mpl\n",
    "#from iminuit import Minuit, describe, Struct\n",
    "#import astroML.plotting as aml\n",
    "from array import array\n",
    "import itertools\n",
    "import time\n",
    "\n",
    "import rootpy.plotting.root2matplotlib as rplt\n",
    "from rootpy.plotting.style import get_style, set_style\n",
    "from matplotlib.ticker import AutoMinorLocator, MultipleLocator\n",
    "\n",
    "import matplotlib.pyplot as plt\n",
    "import numpy as np\n",
    "\n",
    "import astroML.plotting as aml\n",
    "import iminuit\n",
    "import pandas as pd\n",
    "import root_pandas as rpd\n",
    "from root_pandas import read_root\n",
    "import ROOT\n",
    "from ROOT import TH1D\n",
    "#from ROOT import TApplication as TAP\n",
    "from matplotlib.ticker import NullFormatter\n"
   ]
  },
  {
   "cell_type": "markdown",
   "metadata": {},
   "source": [
    "# Define Bins"
   ]
  },
  {
   "cell_type": "code",
   "execution_count": 2,
   "metadata": {},
   "outputs": [],
   "source": [
    "zTbins = [0.05, 0.1, 0.2, 0.4, 0.6, 0.8, 1.0, 1.2]\n",
    "pTbins = [10, 11, 12.5, 16]"
   ]
  },
  {
   "cell_type": "markdown",
   "metadata": {},
   "source": [
    "# Phi Projection & ZYAM"
   ]
  },
  {
   "cell_type": "markdown",
   "metadata": {},
   "source": [
    "###### NOTE: The DNN corresponding to one photon is reflected in the naming scheme of histograms, where DNN1_Histo is signal (the same here) but background (DNN corresponding to 2 photons) is DNN2_Histo. Here, the DNN variable is a boolian corresponding to true for signal, false for not signal (a.k.a. background)"
   ]
  },
  {
   "cell_type": "code",
   "execution_count": 3,
   "metadata": {},
   "outputs": [],
   "source": [
    "def GetPhiProj(filename, ipt, izt, Signal_DNN=True, doZYAM=True):\n",
    "    DNN_Rgn = int(Signal_DNN) + 2*(1-int(Signal_DNN)) #convert bool to DNN_1 (Sgn) or DNN_2 (Bkgd)\n",
    "    file = ROOT.TFile(filename)\n",
    "    histo2D = file.Get('DNN%i_Correlation__pT%1.0f_%1.0f__zT%1.0f_zT%1.0f' \n",
    "                       %(DNN_Rgn,pTbins[ipt],pTbins[ipt+1],10*zTbins[izt],10*zTbins[izt+1]))\n",
    "\n",
    "    Eta_Axis = histo2D.GetYaxis()\n",
    "    PhiProjection = histo2D.ProjectionX('DNN%i_PhiProjection__pT_%1.0f_%1.0f__zt_%1.0f_%1.0f' \n",
    "                                  %(DNN_Rgn,pTbins[ipt],pTbins[ipt+1],10*zTbins[izt],\n",
    "                                    10*zTbins[izt+1]),Eta_Axis.FindBin(-0.6),Eta_Axis.FindBin(0.6));\n",
    "    PhiProjection.SetDirectory(0)\n",
    "    ntriggers = file.Get('N_DNN%i_Triggers_pT%1.0f_%1.0f' %(DNN_Rgn,pTbins[ipt],pTbins[ipt+1]))\n",
    "    PhiProjection.Scale(1.0/ntriggers.GetEntries())\n",
    "    \n",
    "    zyam = PhiProjection.Integral(11,13)/3\n",
    "    # how do I plot ZYAM, perhaps in both cases?\n",
    "    #print('ZYAM=%f'%(zyam))\n",
    "    if(doZYAM):\n",
    "        for i in range(25):\n",
    "            y = PhiProjection.GetBinContent(i)\n",
    "            y_error = PhiProjection.GetBinError(i)\n",
    "            new_y = y-zyam\n",
    "            PhiProjection.SetBinContent(i,new_y)\n",
    "            #assumes 0 error in ZYAM\n",
    "            new_y_error = y_error\n",
    "            PhiProjection.SetBinError(i,new_y_error) \n",
    "\n",
    "    return PhiProjection"
   ]
  },
  {
   "cell_type": "markdown",
   "metadata": {},
   "source": [
    "SetDirectory(0) needed because when a file in root is called, the gDirectory is changed to point to it. The creation of a histogram (PhiProjection) is associated to that file and contains a local reference, which is destroyed when the function exits. Thus, returns 'None' unless the Directory (reference) is changed."
   ]
  },
  {
   "cell_type": "code",
   "execution_count": 15,
   "metadata": {
    "scrolled": false
   },
   "outputs": [
    {
     "name": "stderr",
     "output_type": "stream",
     "text": [
      "WARNING:ROOT.TCanvas.Constructor] Deleting canvas with same name: canv\n"
     ]
    },
    {
     "data": {
      "image/png": "[encoded data removed]",
      "text/plain": [
       "<IPython.core.display.Image object>"
      ]
     },
     "metadata": {},
     "output_type": "display_data"
    }
   ],
   "source": [
    "canv = ROOT.TCanvas(\"canv\",\"canv\",1000,300)\n",
    "canv.Divide(2,1)\n",
    "Sig = GetPhiProj('Same_Mix_Ratio.root',1,3,True,True)#equal to returned plot\n",
    "canv.cd(1)\n",
    "Sig.Draw()\n",
    "bkgd = GetPhiProj('Same_Mix_Ratio.root',1,3,False,True)\n",
    "canv.cd(2)\n",
    "bkgd.SetLineColor(2)\n",
    "bkgd.Draw()\n",
    "canv.Draw()"
   ]
  },
  {
   "cell_type": "markdown",
   "metadata": {},
   "source": [
    "# Low DNN Subtraction"
   ]
  },
  {
   "cell_type": "code",
   "execution_count": 24,
   "metadata": {},
   "outputs": [],
   "source": [
    "def GetBKGsubtracted(filename, ptbin, ztbin, doZYAM=True):\n",
    "    Sig_Subtr_Bkgd = GetPhiProj(filename,ptbin,ztbin,True,doZYAM)\n",
    "    Raw=Sig_Subtr_Bkgd.Clone()\n",
    "    Background = GetPhiProj(filename,ptbin,ztbin,False,doZYAM)\n",
    "    #purity = GetBinContent(ptbin)\n",
    "    purity = 0.4\n",
    "    Background.Scale(purity)\n",
    "    Sig_Subtr_Bkgd.Add(Background,-1)\n",
    "    return Sig_Subtr_Bkgd,Raw,Background"
   ]
  },
  {
   "cell_type": "markdown",
   "metadata": {},
   "source": [
    "###### I have checked the error bars manually, root in this case handles them correctly when adding histograms (sumed in quadrature)"
   ]
  },
  {
   "cell_type": "code",
   "execution_count": 26,
   "metadata": {
    "scrolled": true
   },
   "outputs": [
    {
     "name": "stderr",
     "output_type": "stream",
     "text": [
      "WARNING:ROOT.TCanvas.Constructor] Deleting canvas with same name: c\n"
     ]
    },
    {
     "data": {
      "image/png": "[encoded data removed]",
      "text/plain": [
       "<IPython.core.display.Image object>"
      ]
     },
     "metadata": {},
     "output_type": "display_data"
    }
   ],
   "source": [
    "c = ROOT.TCanvas(\"c\",\"c\",800,300)\n",
    "ROOT.enableJSVis()\n",
    "hsub,hraw,hbkd = GetBKGsubtracted('Same_Mix_Ratio.root',1,3,True)\n",
    "hsub.Draw()\n",
    "c.Draw()\n",
    "ROOT.disableJSVis()"
   ]
  },
  {
   "cell_type": "code",
   "execution_count": 39,
   "metadata": {},
   "outputs": [],
   "source": [
    "def Looping(filename):\n",
    "    for ptbin in range(3):\n",
    "        canvas = ROOT.TCanvas()\n",
    "        canvas.Divide(3,3)\n",
    "        for ztbin in range(7):\n",
    "            hsub,hraw,hbkg = GetBKGsubtracted(filename,ptbin,ztbin,True)#Do ZYAM\n",
    "            canvas.cd(ztbin) \n",
    "            hraw.Draw()\n",
    "            hbkg.SetLineColor(2)\n",
    "            hbkg.Draw('same')\n",
    "        canvas.SaveAs('correlations_ptbin%i_.png'%(ptbin))"
   ]
  },
  {
   "cell_type": "code",
   "execution_count": 40,
   "metadata": {},
   "outputs": [
    {
     "name": "stderr",
     "output_type": "stream",
     "text": [
      "INFO:ROOT.TCanvas.Print] png file correlations_ptbin0_.png has been created\n",
      "INFO:ROOT.TCanvas.Print] png file correlations_ptbin1_.png has been created\n",
      "INFO:ROOT.TCanvas.Print] png file correlations_ptbin2_.png has been created\n"
     ]
    }
   ],
   "source": [
    "Looping('Same_Mix_Ratio.root')"
   ]
  },
  {
   "cell_type": "code",
   "execution_count": null,
   "metadata": {},
   "outputs": [],
   "source": []
  },
  {
   "cell_type": "code",
   "execution_count": null,
   "metadata": {},
   "outputs": [],
   "source": []
  }
 ],
 "metadata": {
  "kernelspec": {
   "display_name": "Python 2",
   "language": "python",
   "name": "python2"
  },
  "language_info": {
   "codemirror_mode": {
    "name": "ipython",
    "version": 2
   },
   "file_extension": ".py",
   "mimetype": "text/x-python",
   "name": "python",
   "nbconvert_exporter": "python",
   "pygments_lexer": "ipython2",
   "version": "2.7.14"
  }
 },
 "nbformat": 4,
 "nbformat_minor": 2
}
